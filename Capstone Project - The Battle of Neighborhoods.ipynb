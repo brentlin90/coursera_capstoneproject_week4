{
 "cells": [
  {
   "cell_type": "markdown",
   "metadata": {},
   "source": [
    "# Capstone Project - The Battle of Neighborhoods \n",
    "\n",
    "# Best Place to Operate a restaurant "
   ]
  },
  {
   "cell_type": "markdown",
   "metadata": {
    "collapsed": true
   },
   "source": [
    "### Introduction: \n",
    "#### This project is to help franchise/company to open/expand a restaurant in city of Toronto by finding the best choice of neighborhood as the location of the restaurant. \n",
    "              "
   ]
  },
  {
   "cell_type": "markdown",
   "metadata": {},
   "source": [
    "#### The data for this project will be the same as the project from Week 3. The first file is \"List of postal codes of Canada: M\". It has three columns: Postal code, Borough, Neighbourhood. And the second one is \"https://cocl.us/Geospatial_data\" which contains the latitude and longitube of each postal code. Eventually i will combine these two with Foursqure location data and use k-cluster methodology to find out the best neighborhood to open a Japanese restaurant in city of Toronto by considering different categories. Such as the number of restaurant in the neighborhood, number of Japanese restaurant, number of hotel, number of shopping center and so on. \n",
    "\n",
    "#### Below are some key factors we consider:\n",
    "##### 1. A neighborhood that already has some restaurants. This makes sure that the neighborhood is kind of known for food. \n",
    "##### 2. However, we want less same kind of restaurants in the neighborhood. It is to make the restaurant unique. \n",
    "##### 3. Public transportation. There will be subway and bus stops around. \n",
    "##### 3. Some popular spots around like museums, shopping centers, theatres and hotels. This makes sure the customer traffic including local residents and tourists. \n",
    "\n",
    "#### This project is aim for more high end/franchise restaurants, since all the factors above normally leads to a more expesive rent or real estate price. "
   ]
  },
  {
   "cell_type": "code",
   "execution_count": null,
   "metadata": {},
   "outputs": [],
   "source": []
  }
 ],
 "metadata": {
  "kernelspec": {
   "display_name": "Python 3.5",
   "language": "python",
   "name": "python3"
  },
  "language_info": {
   "codemirror_mode": {
    "name": "ipython",
    "version": 3
   },
   "file_extension": ".py",
   "mimetype": "text/x-python",
   "name": "python",
   "nbconvert_exporter": "python",
   "pygments_lexer": "ipython3",
   "version": "3.5.5"
  }
 },
 "nbformat": 4,
 "nbformat_minor": 1
}
