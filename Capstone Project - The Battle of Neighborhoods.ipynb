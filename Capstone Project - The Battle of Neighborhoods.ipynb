{
 "cells": [
  {
   "cell_type": "markdown",
   "metadata": {},
   "source": [
    "# Best Place to Operate a restaurant in city of Toronto"
   ]
  },
  {
   "cell_type": "markdown",
   "metadata": {
    "collapsed": true
   },
   "source": [
    "### Introduction: \n",
    "#### This project is aim to help franchise restaurants/investment companies finding the best place for a restaurant in city of Toronto. This project will be using k-cluster methodology to find the best neighborhood by considering various factors. \n",
    "              "
   ]
  },
  {
   "cell_type": "markdown",
   "metadata": {},
   "source": [
    "### Backgrouond:\n",
    "\n",
    "#### Location is critical for restaurants. Even good food but with bad location will still hurt the business. However, with so many neighborhoods in a city, it is very time consuming to look into each neighborhood with many different factors like traffic, competitors, scenic spots and so on. Therefore, using k- means clustering is a very good way for finding the top spots and for decision making as well.  \n",
    "\n",
    "\n",
    "### About the Data:\n",
    "\n",
    "#### The data for this project will be the same as the project from Week 3. The first source is \"List of postal codes of Canada: M\". It has three columns: Postal code, Borough, Neighbourhood. There are total 102 different neighborhoods in city of Toronto. And the second source is \"https://cocl.us/Geospatial_data\" which contains the latitude and longitube of each postal code. The last is Foursqure location data. The methodology will be k-means clustering. \n",
    "\n",
    "#### Below are some key factors we consider:\n",
    "##### 1. A neighborhood that already has some restaurants. This makes sure that the neighborhood is kind of known for food. \n",
    "##### 2. However, we want less same kind of restaurants in the neighborhood. It is to avoid too much competition at the beginning and also to make the restaurant unique. \n",
    "##### 3. Public transportation. There will be subway and bus stops around. \n",
    "##### 3. Some popular spots around like museums, shopping centers, theatres and hotels. This makes sure the customer traffic including local residents and tourists. "
   ]
  },
  {
   "cell_type": "code",
   "execution_count": null,
   "metadata": {},
   "outputs": [],
   "source": []
  }
 ],
 "metadata": {
  "kernelspec": {
   "display_name": "Python 3.5",
   "language": "python",
   "name": "python3"
  },
  "language_info": {
   "codemirror_mode": {
    "name": "ipython",
    "version": 3
   },
   "file_extension": ".py",
   "mimetype": "text/x-python",
   "name": "python",
   "nbconvert_exporter": "python",
   "pygments_lexer": "ipython3",
   "version": "3.5.5"
  }
 },
 "nbformat": 4,
 "nbformat_minor": 1
}
