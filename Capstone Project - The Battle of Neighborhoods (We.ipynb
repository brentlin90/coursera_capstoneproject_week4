{
 "cells": [
  {
   "cell_type": "markdown",
   "metadata": {},
   "source": [
    "# Capstone Project - The Battle of Neighborhoods (Week 1)"
   ]
  },
  {
   "cell_type": "markdown",
   "metadata": {
    "collapsed": true
   },
   "source": [
    "### This project is to help people who want to open a Japanese restaurant in city of Toronto to find a good choice of neighborhood as the location of that Japanese restaurant. "
   ]
  },
  {
   "cell_type": "markdown",
   "metadata": {},
   "source": [
    "### The data for this project will be the same as the project from Week 3. The first is \"List of postal codes of Canada: M\". It has three columns: Postal code, Borough, Neighbourhood. And the second one is \"https://cocl.us/Geospatial_data\" which contains the latitude and longitube of each postal code. Eventually i will combine these two with Foursqure location data to use k-cluster methodology to find out the best neighborhood to open a Japanese restaurant in Toronto by considering different categories. Such as the number of restaurant in the neighborhood, number of Japanese restaurant, number of hotel, number of shopping center and so on. The purpose is to find a neighborhood that has some restaurant but fewer Japanese restaurant and with some popular places around like museums, shopping centers and hotels. "
   ]
  },
  {
   "cell_type": "code",
   "execution_count": null,
   "metadata": {},
   "outputs": [],
   "source": []
  }
 ],
 "metadata": {
  "kernelspec": {
   "display_name": "Python 3.5",
   "language": "python",
   "name": "python3"
  },
  "language_info": {
   "codemirror_mode": {
    "name": "ipython",
    "version": 3
   },
   "file_extension": ".py",
   "mimetype": "text/x-python",
   "name": "python",
   "nbconvert_exporter": "python",
   "pygments_lexer": "ipython3",
   "version": "3.5.5"
  }
 },
 "nbformat": 4,
 "nbformat_minor": 1
}
